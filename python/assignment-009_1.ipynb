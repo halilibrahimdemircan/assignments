{
 "metadata": {
  "language_info": {
   "codemirror_mode": {
    "name": "ipython",
    "version": 3
   },
   "file_extension": ".py",
   "mimetype": "text/x-python",
   "name": "python",
   "nbconvert_exporter": "python",
   "pygments_lexer": "ipython3",
   "version": "3.8.0"
  },
  "orig_nbformat": 4,
  "kernelspec": {
   "name": "python3",
   "display_name": "Python 3.8.0 32-bit"
  },
  "interpreter": {
   "hash": "43473991f3cd0695252894d152b1b32bf434e93eb7f5458ee73a99064cc1cafb"
  }
 },
 "nbformat": 4,
 "nbformat_minor": 2,
 "cells": [
  {
   "cell_type": "code",
   "execution_count": 16,
   "metadata": {},
   "outputs": [
    {
     "output_type": "stream",
     "name": "stdout",
     "text": [
      "Hello, Kemal! See you later.\n"
     ]
    }
   ],
   "source": [
    "name = \"Samuel\"\n",
    "password = \"12@hhklGR2\"\n",
    "given_name = input(\"Please write your name: \")\n",
    "if given_name.capitalize() == name :\n",
    "    print(\" Hello, {}! The password is {}\".format(given_name.capitalize(), password))\n",
    "else :\n",
    "    print(\"Hello, {}! See you later.\".format(given_name.capitalize()))\n",
    "\n",
    "\n"
   ]
  },
  {
   "cell_type": "code",
   "execution_count": null,
   "metadata": {},
   "outputs": [],
   "source": []
  }
 ]
}