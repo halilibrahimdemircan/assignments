{
 "cells": [
  {
   "cell_type": "code",
   "execution_count": null,
   "source": [
    "n = int(input(\"Enter a number\"))\r\n",
    "list = []\r\n",
    "for i in range(n):\r\n",
    "    for j in range(1,i):\r\n",
    "        if i%j == 0:\r\n",
    "            list.append(i)\r\n",
    "print(list)"
   ],
   "outputs": [],
   "metadata": {}
  },
  {
   "cell_type": "code",
   "execution_count": null,
   "source": [],
   "outputs": [],
   "metadata": {}
  }
 ],
 "metadata": {
  "orig_nbformat": 4,
  "language_info": {
   "name": "python",
   "version": "3.8.0"
  },
  "kernelspec": {
   "name": "python3",
   "display_name": "Python 3.8.0 32-bit ('Python38-32')"
  },
  "interpreter": {
   "hash": "43473991f3cd0695252894d152b1b32bf434e93eb7f5458ee73a99064cc1cafb"
  }
 },
 "nbformat": 4,
 "nbformat_minor": 2
}