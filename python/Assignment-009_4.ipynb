{
 "metadata": {
  "language_info": {
   "codemirror_mode": {
    "name": "ipython",
    "version": 3
   },
   "file_extension": ".py",
   "mimetype": "text/x-python",
   "name": "python",
   "nbconvert_exporter": "python",
   "pygments_lexer": "ipython3",
   "version": "3.8.0"
  },
  "orig_nbformat": 4,
  "kernelspec": {
   "name": "python3",
   "display_name": "Python 3.8.0 32-bit"
  },
  "interpreter": {
   "hash": "43473991f3cd0695252894d152b1b32bf434e93eb7f5458ee73a99064cc1cafb"
  }
 },
 "nbformat": 4,
 "nbformat_minor": 2,
 "cells": [
  {
   "cell_type": "code",
   "execution_count": null,
   "metadata": {},
   "outputs": [],
   "source": [
    "#Task : Estimating the risk of death from coronavirus. Write a program that;\n",
    "\n",
    "#Takes \"Yes\" or \"No\" from the user as an answer to the following questions :\n",
    "# Are you a cigarette addict older than 75 years old? Variable → age\n",
    "\n",
    "#Do you have a severe chronic disease? Variable → chronic\n",
    "\n",
    "#Is your immune system too weak? Variable → immune\n",
    "\n",
    "#Set a logical algorithm using boolean logic operators (and/or) and use if-statements with the given variables in order to print out us a message : \"You are in risky group\"(if True ) or \"You are not in risky group\" (if False).#"
   ]
  },
  {
   "cell_type": "code",
   "execution_count": 31,
   "metadata": {},
   "outputs": [
    {
     "output_type": "stream",
     "name": "stdout",
     "text": [
      "You are in risky group\n"
     ]
    }
   ],
   "source": [
    "age = (input(\"Are you a cigarette addict older than 75 years old?\")).capitalize()\n",
    "chronic = (input(\"Do you have a severe chronic disease?\")).capitalize()\n",
    "immune = (input(\"Is your immune system too weak?\")).capitalize()\n",
    "\n",
    "if (age == \"True\" or chronic == \"True\" or immune == \"True\" ) :\n",
    "    print(\"You are in risky group\")\n",
    "else :\n",
    "    print(\"You are not in risky group\")"
   ]
  },
  {
   "cell_type": "code",
   "execution_count": 6,
   "metadata": {},
   "outputs": [
    {
     "output_type": "execute_result",
     "data": {
      "text/plain": [
       "True"
      ]
     },
     "metadata": {},
     "execution_count": 6
    }
   ],
   "source": []
  },
  {
   "cell_type": "code",
   "execution_count": 7,
   "metadata": {},
   "outputs": [
    {
     "output_type": "execute_result",
     "data": {
      "text/plain": [
       "True"
      ]
     },
     "metadata": {},
     "execution_count": 7
    }
   ],
   "source": []
  },
  {
   "cell_type": "code",
   "execution_count": null,
   "metadata": {},
   "outputs": [],
   "source": [
    " "
   ]
  }
 ]
}