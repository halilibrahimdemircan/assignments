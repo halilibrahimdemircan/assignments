{
 "cells": [
  {
   "cell_type": "markdown",
   "source": [
    "Task : Write a program that takes a number from the user and prints the result to check if it is a prime number.\r\n",
    "The examples of the desired output are as follows :\r\n",
    "\r\n",
    "input →  19 ⇉ output : 19 is a prime number\r\n",
    "input →  10 ⇉ output : 10 is not a prime number\r\n"
   ],
   "metadata": {}
  },
  {
   "cell_type": "code",
   "execution_count": 8,
   "source": [
    "number = int(input(\"Please enter a number: \"))\r\n",
    "\r\n",
    "if number == 2:\r\n",
    "    print(\"Prime\")\r\n",
    "elif (number % 2 != 0 and number % 3 != 0 and number % 5 != 0):\r\n",
    "    print(\"Prime\")\r\n",
    "else:\r\n",
    "    print(\"Not Prime\")"
   ],
   "outputs": [
    {
     "output_type": "stream",
     "name": "stdout",
     "text": [
      "Prime\n"
     ]
    }
   ],
   "metadata": {}
  },
  {
   "cell_type": "code",
   "execution_count": 13,
   "source": [
    "number = int(input(\"Enter a number: \"))\r\n",
    "prime = 1\r\n",
    "for i in range(2,number):\r\n",
    "    if (number % i == 0):\r\n",
    "        print(\"This is NOT a prime number\")\r\n",
    "        prime = 0\r\n",
    "        break\r\n",
    "if prime == 1 :\r\n",
    "    print(\"This is a prime number\")"
   ],
   "outputs": [
    {
     "output_type": "stream",
     "name": "stdout",
     "text": [
      "This is NOT a prime number\n"
     ]
    }
   ],
   "metadata": {}
  },
  {
   "cell_type": "code",
   "execution_count": null,
   "source": [],
   "outputs": [],
   "metadata": {}
  },
  {
   "cell_type": "code",
   "execution_count": null,
   "source": [],
   "outputs": [],
   "metadata": {}
  }
 ],
 "metadata": {
  "orig_nbformat": 4,
  "language_info": {
   "name": "python"
  }
 },
 "nbformat": 4,
 "nbformat_minor": 2
}