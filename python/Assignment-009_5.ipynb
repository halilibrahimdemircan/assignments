{
 "cells": [
  {
   "cell_type": "markdown",
   "source": [
    "Task:\r\n",
    "\r\n",
    "Find out if a given number is an \"Armstrong Number\".\r\n",
    "\r\n",
    "An n-digit number that is the sum of the nth powers of its digits is called an n-Armstrong number. Examples :\r\n",
    "371 = 33 + 73 + 13;\r\n",
    "9474 = 94 + 44 + 74 + 44;\r\n",
    "93084 = 95 + 35 + 05 + 85 + 45.\r\n",
    "\r\n",
    "Write a Python program that;\r\n",
    "takes a positive integer number from the user,\r\n",
    "checks the entered number if it is Armstrong,\r\n",
    "consider the negative, float and any entries other than numeric values then display a warning message to the user.\r\n"
   ],
   "metadata": {}
  },
  {
   "cell_type": "code",
   "execution_count": 7,
   "source": [
    "\r\n",
    "number = int(input(\"Please enter a positive number\"))\r\n",
    "order= str(number)\r\n",
    "\r\n",
    "sum = 0\r\n",
    "\r\n",
    "for i in order:\r\n",
    "    digit = int(i)**len(order)\r\n",
    "    sum += digit\r\n",
    "if (number == sum):\r\n",
    "    print(\"This is an Armstrong number\")\r\n",
    "else: print(\"This is NOT an Armstrong number\")\r\n",
    "    \r\n"
   ],
   "outputs": [
    {
     "output_type": "stream",
     "name": "stdout",
     "text": [
      "This is an Armstrong number\n"
     ]
    }
   ],
   "metadata": {}
  }
 ],
 "metadata": {
  "orig_nbformat": 4,
  "language_info": {
   "name": "python"
  }
 },
 "nbformat": 4,
 "nbformat_minor": 2
}